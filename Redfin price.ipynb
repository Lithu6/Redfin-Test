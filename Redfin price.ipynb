{
 "cells": [
  {
   "cell_type": "code",
   "execution_count": null,
   "id": "933dcc74-07ad-4f5d-a9c1-bf2f642a9d80",
   "metadata": {},
   "outputs": [],
   "source": [
    "from selenium import webdriver\n",
    "from selenium.webdriver.common.by import By\n",
    "from selenium.webdriver.common.keys import Keys\n",
    "from selenium.webdriver.chrome.service import Service\n",
    "from webdriver_manager.chrome import ChromeDriverManager\n",
    "from bs4 import BeautifulSoup\n",
    "import time\n",
    "\n",
    "# Set up the ChromeDriver with WebDriver Manager (automatically downloads the correct version)\n",
    "driver = webdriver.Chrome(service=Service(ChromeDriverManager().install()))\n",
    "\n",
    "def get_home_prices(zipcode):\n",
    "    # Open Redfin and go to the desired ZIP code search page\n",
    "    url = f\"https://www.redfin.com/CA/{zipcode}/filter/property-type=single-family-home\"\n",
    "    driver.get(url)\n",
    "\n",
    "    # Allow time for the page to load (you might need to increase this if page loads slowly)\n",
    "    time.sleep(3)\n",
    "\n",
    "    # Scroll down the page a bit to load dynamic content (lazy loading)\n",
    "    body = driver.find_element(By.TAG_NAME, \"body\")\n",
    "    body.send_keys(Keys.PAGE_DOWN)\n",
    "    time.sleep(2)  # Give some time for more content to load\n",
    "    body.send_keys(Keys.PAGE_DOWN)\n",
    "    time.sleep(2)\n",
    "\n",
    "    # Get the page source after dynamic content has loaded\n",
    "    page_source = driver.page_source\n",
    "    soup = BeautifulSoup(page_source, \"html.parser\")\n",
    "\n",
    "    # Find all property listings on the page\n",
    "    listings = soup.find_all(\"div\", class_=\"HomeCardContainer\")\n",
    "\n",
    "    # Extract home prices and other relevant details\n",
    "    home_prices = []\n",
    "    for listing in listings:\n",
    "        price_tag = listing.find(\"span\", class_=\"homecardV2Price\")\n",
    "        if price_tag:\n",
    "            price = price_tag.get_text(strip=True)\n",
    "            home_prices.append(price)\n",
    "    \n",
    "    return home_prices"
   ]
  },
  {
   "cell_type": "code",
   "execution_count": null,
   "id": "95e330a9-6883-4dcb-8c31-dbc96eb38716",
   "metadata": {},
   "outputs": [],
   "source": [
    "# Test function\n",
    "zipcode = \"95825\"  # Example ZIP code \n",
    "prices = get_home_prices(zipcode)\n",
    "\n",
    "# Print the results\n",
    "print(f\"Home prices in ZIP code {zipcode}:\")\n",
    "for price in prices:\n",
    "    print(price)\n",
    "\n",
    "# Close the browser once done\n",
    "driver.quit()"
   ]
  }
 ],
 "metadata": {
  "kernelspec": {
   "display_name": "Python 3 (ipykernel)",
   "language": "python",
   "name": "python3"
  },
  "language_info": {
   "codemirror_mode": {
    "name": "ipython",
    "version": 3
   },
   "file_extension": ".py",
   "mimetype": "text/x-python",
   "name": "python",
   "nbconvert_exporter": "python",
   "pygments_lexer": "ipython3",
   "version": "3.12.2"
  }
 },
 "nbformat": 4,
 "nbformat_minor": 5
}
